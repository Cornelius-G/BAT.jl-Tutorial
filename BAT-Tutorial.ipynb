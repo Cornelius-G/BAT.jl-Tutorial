{
 "cells": [
  {
   "cell_type": "markdown",
   "metadata": {},
   "source": [
    "# BAT.jl Tutorial - Poisson Counting Experiment"
   ]
  },
  {
   "cell_type": "markdown",
   "metadata": {},
   "source": [
    "*Note: This tutorial is written in the style of a cloze test. Parts that have to be filled out by you are marked `#=Please Fill=#`.*\n",
    "\n",
    "For additional help, you can take a look at the [BAT.jl tutorial](https://bat.github.io/BAT.jl/stable/tutorial/) or the [BAT.jl documentation](https://bat.github.io/BAT.jl/stable/)."
   ]
  },
  {
   "cell_type": "markdown",
   "metadata": {},
   "source": [
    "To get started, we first need to import some packages we will use in this tutorial:"
   ]
  },
  {
   "cell_type": "code",
   "execution_count": null,
   "metadata": {},
   "outputs": [],
   "source": [
    "using BAT\n",
    "using Distributions \n",
    "using IntervalSets\n",
    "using ValueShapes\n",
    "using Plots\n",
    "using ArraysOfArrays\n",
    "using StatsBase \n",
    "using LinearAlgebra\n",
    "using DensityInterface"
   ]
  },
  {
   "cell_type": "markdown",
   "metadata": {},
   "source": [
    "## Situation\n",
    "In this tutorial, we want to determine the properties of a radioactive singal source in the presence of background from natural sources of radioactivity.  \n",
    "We assume to have one signal source $S$ and only one source of background $B$. All measurements are taken for the same duration, so we do not distinguish between counts and rates."
   ]
  },
  {
   "cell_type": "markdown",
   "metadata": {},
   "source": [
    "## Part 1: A first background-only measurement\n",
    "We start by using our detector without the signal source installed.  \n",
    "This measurement yields a number of $k_B=10$ counts.  \n",
    "Using this measurement we want to gain information about the event rate of the natural radioactive background.\n",
    "\n",
    "### Task: \n",
    "We want to perform a Bayesian analysis to estimate the event rate of the natural background $\\lambda_b$ using a Poisson model. \n",
    "\n",
    "We start by defining the corresponding log-likelihood function, using the function `logpdf()` and the type `Poisson` provided by the package [Distributions.jl](https://juliastats.github.io/Distributions.jl/latest/univariate/)."
   ]
  },
  {
   "cell_type": "code",
   "execution_count": null,
   "metadata": {},
   "outputs": [],
   "source": [
    "# Number of observed background events\n",
    "kb = 10\n",
    "\n",
    "likelihood_B = let k = kb\n",
    "    logfuncdensity(function (params) # this function is part of the package DensityInterface.jl and is used to define the log-likelihood\n",
    "        return logpdf(Poisson(params.λb), k) # poisson log-likelihood\n",
    "    end)\n",
    "end;"
   ]
  },
  {
   "cell_type": "markdown",
   "metadata": {},
   "source": [
    "Next, we define the Prior distribution using the `distprod` function. We use a flat prior between 0 and 30:"
   ]
  },
  {
   "cell_type": "code",
   "execution_count": null,
   "metadata": {},
   "outputs": [],
   "source": [
    "prior_B = distprod(\n",
    "    λb = 0..30., # This is a shorthand notation for Uniform(0, 30)\n",
    ")"
   ]
  },
  {
   "cell_type": "markdown",
   "metadata": {},
   "source": [
    "With the likelihood and prior, we can now define the `PosteriorDensity()` for the background-only scenario:"
   ]
  },
  {
   "cell_type": "code",
   "execution_count": null,
   "metadata": {},
   "outputs": [],
   "source": [
    "posterior_B = PosteriorMeasure(likelihood_B, prior_B)"
   ]
  },
  {
   "cell_type": "markdown",
   "metadata": {},
   "source": [
    "We can now explore the posterior distribution, for example by first searching for the mode, i.e. the value of $\\lambda_b$ with the highest probability density:"
   ]
  },
  {
   "cell_type": "code",
   "execution_count": null,
   "metadata": {},
   "outputs": [],
   "source": [
    "using Optim # we need to explicitly load the Optim package to use the bat_findmode function\n",
    "mode_B = bat_findmode(posterior_B)"
   ]
  },
  {
   "cell_type": "markdown",
   "metadata": {},
   "source": [
    "The value of the mode can be obtained as:"
   ]
  },
  {
   "cell_type": "code",
   "execution_count": null,
   "metadata": {},
   "outputs": [],
   "source": [
    "mode_B.result"
   ]
  },
  {
   "cell_type": "markdown",
   "metadata": {},
   "source": [
    "In a next step, we want to actually sample the posterior distribution to check other numerical properties and create plots.\n",
    "For this, we first specify some settings for the sampling. We choose the `MetropolisHastings()` algorithm and use 4 Markov chains with 10^5 steps each:"
   ]
  },
  {
   "cell_type": "code",
   "execution_count": null,
   "metadata": {},
   "outputs": [],
   "source": [
    "algorithm = MCMCSampling(mcalg = MetropolisHastings(), nsteps = 10^5, nchains = 4)"
   ]
  },
  {
   "cell_type": "markdown",
   "metadata": {},
   "source": [
    "Using the function `bat_sample` we can then sample the posterior distribution:"
   ]
  },
  {
   "cell_type": "code",
   "execution_count": null,
   "metadata": {},
   "outputs": [],
   "source": [
    "samples_B = bat_sample(posterior_B, algorithm).result"
   ]
  },
  {
   "cell_type": "markdown",
   "metadata": {},
   "source": [
    "Let us now look at some numerical properties of the posterior distribution obtained from the samples:"
   ]
  },
  {
   "cell_type": "code",
   "execution_count": null,
   "metadata": {},
   "outputs": [],
   "source": [
    "bat_report(samples_B)"
   ]
  },
  {
   "cell_type": "markdown",
   "metadata": {},
   "source": [
    "The individual numerical values shown above can be also obtained using the functions `mean`, `mode`, `std`, ... on the samples object, e.g.:"
   ]
  },
  {
   "cell_type": "code",
   "execution_count": null,
   "metadata": {},
   "outputs": [],
   "source": [
    "mean(samples_B).λb"
   ]
  },
  {
   "cell_type": "markdown",
   "metadata": {},
   "source": [
    "Let us now also take a look at the resulting disribution for the background rate using the `plot()` function:"
   ]
  },
  {
   "cell_type": "code",
   "execution_count": null,
   "metadata": {
    "scrolled": false
   },
   "outputs": [],
   "source": [
    "plot(samples_B, :λb)"
   ]
  },
  {
   "cell_type": "markdown",
   "metadata": {},
   "source": [
    "We can also plot the prior distribution on top of the posterior to visualize the knowledge update we gained by analyzing the data:"
   ]
  },
  {
   "cell_type": "code",
   "execution_count": null,
   "metadata": {},
   "outputs": [],
   "source": [
    "plot(samples_B, :λb)\n",
    "\n",
    "samples_prior_B = rand(prior_B, 100_000).λb\n",
    "plot!(samples_prior_B, st=:stephist, normalize=true, lw=2, label=\"Prior\")"
   ]
  },
  {
   "cell_type": "markdown",
   "metadata": {},
   "source": [
    "### Additional Tasks:\n",
    "Play around with the settings of the sampling algorithm. What happens if you, e.g.\n",
    "* change the number of chains ?\n",
    "* change the number of steps per chain ?\n",
    "* pick a different sampling algorithm from the [List of algorithms](https://bat.github.io/BAT.jl/stable/list_of_algorithms/#Sampling-algorithms) ?\n"
   ]
  },
  {
   "cell_type": "markdown",
   "metadata": {},
   "source": [
    "## Part 2: Second background-only measurement\n",
    "A second measurement of the natural background is perfomed (for the same duration) and yields a number of $k_B=8$ counts.  \n",
    "Therefore, we want to update our estimation of the background rate using this new knowledge together with the pervious results.\n",
    "### Task:\n",
    "We want to perform an analysis of the new measurement similar to the first one.   \n",
    "We want to use the posterior distribution of the previous background measurement as a prior for this analysis.  \n",
    "For this, we need to convert our previous samples into a [StatsBase histogram](http://juliastats.github.io/StatsBase.jl/latest/empirical/#Histograms-1)."
   ]
  },
  {
   "cell_type": "markdown",
   "metadata": {},
   "source": [
    "We build a `StatsBase` histogram containing the previous posterior distribution:"
   ]
  },
  {
   "cell_type": "code",
   "execution_count": null,
   "metadata": {},
   "outputs": [],
   "source": [
    "samples_flat = samples_B.v.λb\n",
    "weights = FrequencyWeights(samples_B.weight)\n",
    "\n",
    "posterior_hist_B1 = fit(Histogram, samples_flat, weights, nbins = 400)"
   ]
  },
  {
   "cell_type": "markdown",
   "metadata": {},
   "source": [
    "This histogram can now be used as a prior by converting it into a univariate binned distribution (`UvBinnedDist`) using the package `EmpiricalDistributions.jl`:"
   ]
  },
  {
   "cell_type": "code",
   "execution_count": null,
   "metadata": {},
   "outputs": [],
   "source": [
    "using EmpiricalDistributions\n",
    "\n",
    "prior_B2 = distprod(\n",
    "    λb = UvBinnedDist(posterior_hist_B1)\n",
    ")"
   ]
  },
  {
   "cell_type": "markdown",
   "metadata": {},
   "source": [
    "Now we define the new log-likelihood function and build the new posterior distribution:"
   ]
  },
  {
   "cell_type": "code",
   "execution_count": null,
   "metadata": {},
   "outputs": [],
   "source": [
    "kb2 = 8\n",
    "\n",
    "likelihood_B2 = let k = kb2\n",
    "    logfuncdensity(function (params)\n",
    "        return #=Please Fill=#\n",
    "    end)\n",
    "end;"
   ]
  },
  {
   "cell_type": "code",
   "execution_count": null,
   "metadata": {},
   "outputs": [],
   "source": [
    "posterior_B2 = #=Please Fill=#"
   ]
  },
  {
   "cell_type": "markdown",
   "metadata": {},
   "source": [
    "And generate samples:  \n",
    "(Note: By default, BAT.jl internally performes a phase space transformation according to the prior distribution in order to make the sampling more efficient. As this is currently not supported for priors containing `UvBinnedDist`s, we need to explicitly disable this transformation using ` trafo=DoNotTransform()`.)"
   ]
  },
  {
   "cell_type": "code",
   "execution_count": null,
   "metadata": {},
   "outputs": [],
   "source": [
    "samples_B2 = #=Please Fill=#"
   ]
  },
  {
   "cell_type": "markdown",
   "metadata": {},
   "source": [
    "Let us now visualize both the prior (i.e. the posterior of the first analysis) and the updated posterior:"
   ]
  },
  {
   "cell_type": "code",
   "execution_count": null,
   "metadata": {},
   "outputs": [],
   "source": [
    "plot(samples_B2, :λb)\n",
    "plot!(rand(prior_B2, 1_000_000).λb, st=:stephist, lw=2, normalize=true, label=\"Prior\")"
   ]
  },
  {
   "cell_type": "code",
   "execution_count": null,
   "metadata": {},
   "outputs": [],
   "source": [
    "bat_report(samples_B2)"
   ]
  },
  {
   "cell_type": "markdown",
   "metadata": {},
   "source": [
    "## Part 3: Signal + Background Measurement\n",
    "Now we include the radioactive source into the experimental setup. We repeat the measurement and now observe $k_{S+B}=12$ counts.  \n",
    "With this measurement and our prior knowledge about the background we are now able to estimate the signal rate $\\lambda_s$.\n",
    "### Task\n",
    "Perform a third analysis using a poisson model with the combined singal + background rate.  \n",
    "Use the known information about the background from the previous tasks as a prior for the backround and choose a suitable prior for the signal."
   ]
  },
  {
   "cell_type": "markdown",
   "metadata": {},
   "source": [
    "Define the likelihood for the signal + background model:"
   ]
  },
  {
   "cell_type": "code",
   "execution_count": null,
   "metadata": {},
   "outputs": [],
   "source": [
    "# Number of observed events\n",
    "kSB = 12\n",
    "\n",
    "likelihood_SB = let k = kSB\n",
    "    logfuncdensity(function (params)\n",
    "        return #=Please Fill=# # poisson log-likelihood for b+s \n",
    "    end)\n",
    "end;"
   ]
  },
  {
   "cell_type": "markdown",
   "metadata": {},
   "source": [
    "Define the prior for both the signal and backgound parameters.\n",
    "Choose a flat prior in the range (0, 30) for the signal rate.  \n",
    "Remember to use the knowledge from the previous tasks for the prior of the background rate.  \n"
   ]
  },
  {
   "cell_type": "code",
   "execution_count": null,
   "metadata": {},
   "outputs": [],
   "source": [
    "posterior_hist_B2 = fit(Histogram, samples_B2.v.λb, FrequencyWeights(samples_B2.weight), nbins = 400)\n",
    "\n",
    "prior_SB = NamedTupleDist( \n",
    "    #=Please Fill=#\n",
    ")"
   ]
  },
  {
   "cell_type": "markdown",
   "metadata": {},
   "source": [
    "Define the posterior for the signal + backround analysis:"
   ]
  },
  {
   "cell_type": "code",
   "execution_count": null,
   "metadata": {},
   "outputs": [],
   "source": [
    "posterior_SB = #=Please Fill=#"
   ]
  },
  {
   "cell_type": "markdown",
   "metadata": {},
   "source": [
    "Generate samples for the signal + background model:  \n",
    "(Note: Again use `trafo=DoNotTransform()`.)"
   ]
  },
  {
   "cell_type": "code",
   "execution_count": null,
   "metadata": {},
   "outputs": [],
   "source": [
    "samples_SB = #=Please Fill=#"
   ]
  },
  {
   "cell_type": "markdown",
   "metadata": {},
   "source": [
    "To visualize an overview of the results for both prameters simply use `plot(samples_SB)`:    \n",
    "You can also indicate the global mode adding the keyword `globalmode=true`."
   ]
  },
  {
   "cell_type": "code",
   "execution_count": null,
   "metadata": {},
   "outputs": [],
   "source": [
    "plot(samples_SB, globalmode=true)"
   ]
  },
  {
   "cell_type": "markdown",
   "metadata": {},
   "source": [
    "Alsoe, print some statistics of the samples:"
   ]
  },
  {
   "cell_type": "code",
   "execution_count": null,
   "metadata": {},
   "outputs": [],
   "source": [
    "#=Please Fill=#"
   ]
  },
  {
   "cell_type": "markdown",
   "metadata": {},
   "source": [
    "## Part 3 b) - Combined analyses\n",
    "Let us now perform the same analysis but this time using all three measurments (first background measuerment, second background measurement, and the signal + backround measurements) at the same time instead of inserting them sequentially."
   ]
  },
  {
   "cell_type": "code",
   "execution_count": null,
   "metadata": {},
   "outputs": [],
   "source": [
    "prior_SB_2 = NamedTupleDist( \n",
    "    #=Please Fill=#\n",
    ")\n",
    "\n",
    "\n",
    "likelihood_SB_2 = let k = [10, 8, 12]\n",
    "    logfuncdensity(function (params)\n",
    "        b1 = #=Please Fill=#\n",
    "        b2 = #=Please Fill=#\n",
    "        sb = #=Please Fill=#\n",
    "        return b1 + b2 + sb  # poisson log-likelihood for b+s \n",
    "    end)\n",
    "end;\n",
    "\n",
    "\n",
    "posterior_SB_2 = PosteriorMeasure(likelihood_SB_2, prior_SB_2);"
   ]
  },
  {
   "cell_type": "code",
   "execution_count": null,
   "metadata": {},
   "outputs": [],
   "source": [
    "samples_SB_2 = #=Please Fill=#\n",
    "bat_report(samples_SB_2)"
   ]
  },
  {
   "cell_type": "markdown",
   "metadata": {},
   "source": [
    "## 4. Error propagation"
   ]
  },
  {
   "cell_type": "markdown",
   "metadata": {},
   "source": [
    "Finally, we want to caluclate the cross section of the signal process.  \n",
    "The rate of measured events in the detector of a couting experiment can be written as \n",
    "\n",
    "$\\frac{\\mathrm d N}{\\mathrm d t} = \\epsilon \\cdot σ \\cdot L$ ,\n",
    "\n",
    "with the Luminosity $L$ and the efficiency of the detector $\\epsilon$.   \n",
    "The signal cross section is therefore given as:\n",
    "#### $σ_S = \\frac{λ_s}{\\epsilon \\cdot L}$.  \n",
    "For this experiment we assume a luminosity of $L = 1.1$  (neglecting units).\n",
    "\n",
    "As a final result we want to obtain either a measurement or an upper limit on the signal cross section."
   ]
  },
  {
   "cell_type": "markdown",
   "metadata": {},
   "source": [
    "### Task 4 a) Known efficiency with gaussian uncertainty\n",
    "The detector efficiency has been measured to be $\\epsilon = 0.1 \\pm 0.02$, assuming the uncertainties to follow a normal distribution.\n",
    "\n",
    "We want to calculate the signal cross section $σ_S$ using the equation above.\n",
    "\n",
    "Use the [Distrtibutions.jl](https://juliastats.github.io/Distributions.jl/latest/univariate/) package and `rand()` to obain samples for $\\epsilon$.  \n",
    "In order to obtain the same number of unweigthed samples of $\\lambda_S$ the function `bat_sample(samples, RandResampling(nsamples=nsamples))` can be used for resampling the posterior samples.\n",
    "\n",
    "The function `broadcast()` or the `.`operator (e.g. `a .+ b`) might be useful for element-wise operation when handeling the samples.  "
   ]
  },
  {
   "cell_type": "markdown",
   "metadata": {},
   "source": [
    "Define the luminosity and the efficiency:"
   ]
  },
  {
   "cell_type": "code",
   "execution_count": null,
   "metadata": {},
   "outputs": [],
   "source": [
    "nsamples = 100_000\n",
    "\n",
    "L = 1.1\n",
    "ϵ = rand(Normal(0.1, 0.02), nsamples)"
   ]
  },
  {
   "cell_type": "markdown",
   "metadata": {},
   "source": [
    "Let us quickly plot the efficiency.  Use a [StatsBase histogram](http://juliastats.github.io/StatsBase.jl/latest/empirical/#Histograms-1) to visualize the distribution.  \n",
    "(Hint: The plot recipes can also be used for the `StatsBase` histograms) "
   ]
  },
  {
   "cell_type": "code",
   "execution_count": null,
   "metadata": {},
   "outputs": [],
   "source": [
    "hist_ϵ = fit(Histogram, ϵ, nbins=200) \n",
    "\n",
    "plot(hist_ϵ, st=:steps, normalize=true, lw=2, xlabel=\"\\$\\\\epsilon\\$\", ylabel=\"\\$p(\\\\epsilon)\\$\")"
   ]
  },
  {
   "cell_type": "markdown",
   "metadata": {},
   "source": [
    "Now, let's get unweighted samples for the signal rate and calculate the cross section distribution:"
   ]
  },
  {
   "cell_type": "code",
   "execution_count": null,
   "metadata": {},
   "outputs": [],
   "source": [
    "resampled_SB = #=Please Fill=#\n",
    "λs = resampled_SB.v.λs"
   ]
  },
  {
   "cell_type": "code",
   "execution_count": null,
   "metadata": {},
   "outputs": [],
   "source": [
    "σS = (λs)./(ϵ*L);"
   ]
  },
  {
   "cell_type": "markdown",
   "metadata": {},
   "source": [
    "Plot the distribution of the signal cross section. (Hint: use again a histogram)  "
   ]
  },
  {
   "cell_type": "code",
   "execution_count": null,
   "metadata": {},
   "outputs": [],
   "source": [
    "hist_σS = fit(Histogram, σS, nbins=300)\n",
    "bat_hist = BAT.MarginalDist(UvBinnedDist(hist_σS))\n",
    "plot(bat_hist, st=:smallest_intervals, xlabel=\"\\$\\\\sigma_S\\$\", ylabel=\"\\$p(\\\\sigma_S)\\$\")"
   ]
  },
  {
   "cell_type": "markdown",
   "metadata": {},
   "source": [
    "Did we measure the signal process? Or can we only set an upper limit? "
   ]
  },
  {
   "cell_type": "markdown",
   "metadata": {},
   "source": [
    "### Task 4 b) Binomial analysis of calibration measurement to determine efficiency \n",
    "We now want to perform the same analysis as in task 4 a) but for the case that the detector efficiency $\\epsilon$ is not yet known.   \n",
    "\n",
    " Instead, $\\epsilon$ is to be determined using a calibration measurement with a source for which the signal rate is known. Then it is possible to calculate the efficiency from the expected number of counts and the number of counts actually measured with the detector.   \n",
    "\n",
    "\n",
    "For our example, the number of expected events is assumed to be $N_\\text{expected} = 200$.  \n",
    "The detector measures only $N_\\text{measured} = 21$ events.  \n",
    "\n",
    "Task: Implement a binomial model using the `Binomial(n,p)` function of the [Distrtibutions.jl](https://juliastats.github.io/Distributions.jl/latest/univariate/) package and determine the distribution of the detector efficiency.  \n",
    "Afterwards, repeat the steps from 4 a) using the obtained distribution of the efficiency to calculate the signal cross section ."
   ]
  },
  {
   "cell_type": "markdown",
   "metadata": {},
   "source": [
    "Define the binomial likelihood:"
   ]
  },
  {
   "cell_type": "code",
   "execution_count": null,
   "metadata": {},
   "outputs": [],
   "source": [
    "n_expected = 200\n",
    "n_measured = 21\n",
    "\n",
    "likelihood_binomial = let n = n_expected, k = n_measured\n",
    "    logfuncdensity(function (params)\n",
    "        return #=Please Fill=#\n",
    "    end)\n",
    "end"
   ]
  },
  {
   "cell_type": "markdown",
   "metadata": {},
   "source": [
    "Define the prior (flat) for the efficiency and define the posterior:"
   ]
  },
  {
   "cell_type": "code",
   "execution_count": null,
   "metadata": {},
   "outputs": [],
   "source": [
    "prior_binomial = distprod(\n",
    "    #=Please Fill=#\n",
    ")\n",
    "\n",
    "posterior_binomial = PosteriorMeasure(likelihood_binomial, prior_binomial)"
   ]
  },
  {
   "cell_type": "markdown",
   "metadata": {},
   "source": [
    "Generate the samples:"
   ]
  },
  {
   "cell_type": "code",
   "execution_count": null,
   "metadata": {},
   "outputs": [],
   "source": [
    "samples_binomial = #=Please Fill=#"
   ]
  },
  {
   "cell_type": "markdown",
   "metadata": {},
   "source": [
    "Plot the distribution of the efficiency:  \n",
    "(What do you observe when comparing to the efficiency used in 4 a) ?)"
   ]
  },
  {
   "cell_type": "code",
   "execution_count": null,
   "metadata": {},
   "outputs": [],
   "source": [
    "plot(samples_binomial, :ε)"
   ]
  },
  {
   "cell_type": "markdown",
   "metadata": {},
   "source": [
    "Print some statistics of the samples:"
   ]
  },
  {
   "cell_type": "code",
   "execution_count": null,
   "metadata": {},
   "outputs": [],
   "source": [
    "#=Please Fill=#"
   ]
  },
  {
   "cell_type": "markdown",
   "metadata": {},
   "source": [
    "Calculate the cross section by sampling the same number of events from the efficiency and from the signal samples:  \n",
    "(Hint: proceed like in 4 a) for the samples of $\\lambda$_SB )"
   ]
  },
  {
   "cell_type": "code",
   "execution_count": null,
   "metadata": {},
   "outputs": [],
   "source": [
    "nsamples = 100_000\n",
    "resampled_SB = bat_sample(samples_SB, RandResampling(nsamples=nsamples)).result\n",
    "resampled_binomial = bat_sample(samples_binomial, RandResampling(nsamples=nsamples)).result\n",
    "\n",
    "@assert length(resampled_SB) == length(resampled_binomial)"
   ]
  },
  {
   "cell_type": "code",
   "execution_count": null,
   "metadata": {},
   "outputs": [],
   "source": [
    "λ_SB = resampled_SB.v.λs\n",
    "ϵ   = resampled_binomial.v.ε\n",
    "σS = (λ_SB)./(ϵ*L)"
   ]
  },
  {
   "cell_type": "markdown",
   "metadata": {},
   "source": [
    "Use a `StatsBase`histogram to visualize the cross section distribution.  \n",
    "From the plot, determine the 95% upper limit on the cross section."
   ]
  },
  {
   "cell_type": "code",
   "execution_count": null,
   "metadata": {},
   "outputs": [],
   "source": [
    "hist_σ = fit(Histogram, σS, nbins=200)\n",
    "bat_hist = BAT.MarginalDist(UvBinnedDist(hist_σS))\n",
    "plot(bat_hist, st=:smallest_intervals, xlabel=\"\\$\\\\sigma_S\\$\", ylabel=\"\\$p(\\\\sigma_S)\\$\")"
   ]
  },
  {
   "cell_type": "markdown",
   "metadata": {},
   "source": [
    "Compare the distribution of the signal cross section to the distribution from 4 a)."
   ]
  }
 ],
 "metadata": {
  "@webio": {
   "lastCommId": null,
   "lastKernelId": null
  },
  "hide_input": false,
  "kernelspec": {
   "display_name": "Julia 1.9.1",
   "language": "julia",
   "name": "julia-1.9"
  },
  "language_info": {
   "file_extension": ".jl",
   "mimetype": "application/julia",
   "name": "julia",
   "version": "1.9.1"
  },
  "toc": {
   "base_numbering": 1,
   "nav_menu": {},
   "number_sections": false,
   "sideBar": true,
   "skip_h1_title": false,
   "title_cell": "Table of Contents",
   "title_sidebar": "Contents",
   "toc_cell": false,
   "toc_position": {},
   "toc_section_display": true,
   "toc_window_display": false
  }
 },
 "nbformat": 4,
 "nbformat_minor": 2
}
